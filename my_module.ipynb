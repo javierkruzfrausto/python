{
 "cells": [
  {
   "cell_type": "code",
   "execution_count": 4,
   "metadata": {},
   "outputs": [
    {
     "name": "stdout",
     "output_type": "stream",
     "text": [
      "The square footage of the house is: 150 square feet\n",
      "The circumference of the circle is: 25.132741228718345\n"
     ]
    }
   ],
   "source": [
    "import os\n",
    "\n",
    "# Get the directory path of the current file\n",
    "file_path = '/Users/javierfrausto/Documents/Self-Paced/Python/my_module.ipynb'\n",
    "directory_path = os.path.dirname(file_path)\n",
    "\n",
    "# Change the current working directory to the directory of the file\n",
    "os.chdir(directory_path)\n",
    "\n",
    "# my_module.py\n",
    "\n",
    "#Question 1\n",
    "#Create function to calculate the square footage of a house\n",
    "#Reminder of Formula: Length X Width == Area\n",
    "def calculate_square_footage(length, width):\n",
    "    area = length * width\n",
    "    return area\n",
    "\n",
    "length = 10  # in feet\n",
    "width = 15   # in feet\n",
    "\n",
    "square_footage = calculate_square_footage(length, width)\n",
    "print(\"The square footage of the house is:\", square_footage, \"square feet\")\n",
    "\n",
    "\n",
    "#Question 2\n",
    "# Create a function to calculate the circumference of a circle\n",
    "import math\n",
    "\n",
    "def calculate_circumference(radius):\n",
    "    \"\"\"\n",
    "    Calculate the circumference of a circle.\n",
    "\n",
    "    Args:\n",
    "    - radius (float): The radius of the circle.\n",
    "\n",
    "    Returns:\n",
    "    - float: The circumference of the circle.\n",
    "    \"\"\"\n",
    "    circumference = 2 * math.pi * radius\n",
    "    return circumference\n",
    "radius = 4  # in units (e.g., meters, inches, etc.)\n",
    "\n",
    "circumference = calculate_circumference(radius)\n",
    "print(\"The circumference of the circle is:\", circumference)\n"
   ]
  }
 ],
 "metadata": {
  "kernelspec": {
   "display_name": "Python 3 (ipykernel)",
   "language": "python",
   "name": "python3"
  },
  "language_info": {
   "codemirror_mode": {
    "name": "ipython",
    "version": 3
   },
   "file_extension": ".py",
   "mimetype": "text/x-python",
   "name": "python",
   "nbconvert_exporter": "python",
   "pygments_lexer": "ipython3",
   "version": "3.11.5"
  }
 },
 "nbformat": 4,
 "nbformat_minor": 2
}
